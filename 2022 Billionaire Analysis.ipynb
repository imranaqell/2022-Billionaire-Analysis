{
 "cells": [
  {
   "cell_type": "code",
   "execution_count": 33,
   "id": "9f69a4b3",
   "metadata": {},
   "outputs": [],
   "source": [
    "import numpy as np \n",
    "import pandas as pd \n",
    "import matplotlib.pyplot as plt\n",
    "import seaborn as sns"
   ]
  },
  {
   "cell_type": "code",
   "execution_count": 75,
   "id": "c8f80685",
   "metadata": {},
   "outputs": [
    {
     "data": {
      "text/html": [
       "<div>\n",
       "<style scoped>\n",
       "    .dataframe tbody tr th:only-of-type {\n",
       "        vertical-align: middle;\n",
       "    }\n",
       "\n",
       "    .dataframe tbody tr th {\n",
       "        vertical-align: top;\n",
       "    }\n",
       "\n",
       "    .dataframe thead th {\n",
       "        text-align: right;\n",
       "    }\n",
       "</style>\n",
       "<table border=\"1\" class=\"dataframe\">\n",
       "  <thead>\n",
       "    <tr style=\"text-align: right;\">\n",
       "      <th></th>\n",
       "      <th>rank</th>\n",
       "      <th>name</th>\n",
       "      <th>networth</th>\n",
       "      <th>age</th>\n",
       "      <th>country</th>\n",
       "      <th>source</th>\n",
       "      <th>industry</th>\n",
       "    </tr>\n",
       "  </thead>\n",
       "  <tbody>\n",
       "    <tr>\n",
       "      <th>0</th>\n",
       "      <td>1</td>\n",
       "      <td>Elon Musk</td>\n",
       "      <td>$219 B</td>\n",
       "      <td>50</td>\n",
       "      <td>United States</td>\n",
       "      <td>Tesla, SpaceX</td>\n",
       "      <td>Automotive</td>\n",
       "    </tr>\n",
       "    <tr>\n",
       "      <th>1</th>\n",
       "      <td>2</td>\n",
       "      <td>Jeff Bezos</td>\n",
       "      <td>$171 B</td>\n",
       "      <td>58</td>\n",
       "      <td>United States</td>\n",
       "      <td>Amazon</td>\n",
       "      <td>Technology</td>\n",
       "    </tr>\n",
       "    <tr>\n",
       "      <th>2</th>\n",
       "      <td>3</td>\n",
       "      <td>Bernard Arnault &amp; family</td>\n",
       "      <td>$158 B</td>\n",
       "      <td>73</td>\n",
       "      <td>France</td>\n",
       "      <td>LVMH</td>\n",
       "      <td>Fashion &amp; Retail</td>\n",
       "    </tr>\n",
       "    <tr>\n",
       "      <th>3</th>\n",
       "      <td>4</td>\n",
       "      <td>Bill Gates</td>\n",
       "      <td>$129 B</td>\n",
       "      <td>66</td>\n",
       "      <td>United States</td>\n",
       "      <td>Microsoft</td>\n",
       "      <td>Technology</td>\n",
       "    </tr>\n",
       "    <tr>\n",
       "      <th>4</th>\n",
       "      <td>5</td>\n",
       "      <td>Warren Buffett</td>\n",
       "      <td>$118 B</td>\n",
       "      <td>91</td>\n",
       "      <td>United States</td>\n",
       "      <td>Berkshire Hathaway</td>\n",
       "      <td>Finance &amp; Investments</td>\n",
       "    </tr>\n",
       "    <tr>\n",
       "      <th>5</th>\n",
       "      <td>6</td>\n",
       "      <td>Larry Page</td>\n",
       "      <td>$111 B</td>\n",
       "      <td>49</td>\n",
       "      <td>United States</td>\n",
       "      <td>Google</td>\n",
       "      <td>Technology</td>\n",
       "    </tr>\n",
       "    <tr>\n",
       "      <th>6</th>\n",
       "      <td>7</td>\n",
       "      <td>Sergey Brin</td>\n",
       "      <td>$107 B</td>\n",
       "      <td>48</td>\n",
       "      <td>United States</td>\n",
       "      <td>Google</td>\n",
       "      <td>Technology</td>\n",
       "    </tr>\n",
       "    <tr>\n",
       "      <th>7</th>\n",
       "      <td>8</td>\n",
       "      <td>Larry Ellison</td>\n",
       "      <td>$106 B</td>\n",
       "      <td>77</td>\n",
       "      <td>United States</td>\n",
       "      <td>software</td>\n",
       "      <td>Technology</td>\n",
       "    </tr>\n",
       "    <tr>\n",
       "      <th>8</th>\n",
       "      <td>9</td>\n",
       "      <td>Steve Ballmer</td>\n",
       "      <td>$91.4 B</td>\n",
       "      <td>66</td>\n",
       "      <td>United States</td>\n",
       "      <td>Microsoft</td>\n",
       "      <td>Technology</td>\n",
       "    </tr>\n",
       "    <tr>\n",
       "      <th>9</th>\n",
       "      <td>10</td>\n",
       "      <td>Mukesh Ambani</td>\n",
       "      <td>$90.7 B</td>\n",
       "      <td>64</td>\n",
       "      <td>India</td>\n",
       "      <td>diversified</td>\n",
       "      <td>Diversified</td>\n",
       "    </tr>\n",
       "  </tbody>\n",
       "</table>\n",
       "</div>"
      ],
      "text/plain": [
       "   rank                       name networth  age        country  \\\n",
       "0     1                 Elon Musk    $219 B   50  United States   \n",
       "1     2                Jeff Bezos    $171 B   58  United States   \n",
       "2     3  Bernard Arnault & family    $158 B   73         France   \n",
       "3     4                Bill Gates    $129 B   66  United States   \n",
       "4     5            Warren Buffett    $118 B   91  United States   \n",
       "5     6                Larry Page    $111 B   49  United States   \n",
       "6     7               Sergey Brin    $107 B   48  United States   \n",
       "7     8             Larry Ellison    $106 B   77  United States   \n",
       "8     9             Steve Ballmer   $91.4 B   66  United States   \n",
       "9    10             Mukesh Ambani   $90.7 B   64          India   \n",
       "\n",
       "               source                industry  \n",
       "0       Tesla, SpaceX             Automotive   \n",
       "1              Amazon             Technology   \n",
       "2                LVMH       Fashion & Retail   \n",
       "3           Microsoft             Technology   \n",
       "4  Berkshire Hathaway  Finance & Investments   \n",
       "5              Google             Technology   \n",
       "6              Google             Technology   \n",
       "7            software             Technology   \n",
       "8           Microsoft             Technology   \n",
       "9         diversified            Diversified   "
      ]
     },
     "execution_count": 75,
     "metadata": {},
     "output_type": "execute_result"
    }
   ],
   "source": [
    "df = pd.read_csv('2022_forbes_billionaires.csv')\n",
    "df = df.drop('Unnamed: 0', axis = 1)\n",
    "df.head(10)"
   ]
  },
  {
   "cell_type": "code",
   "execution_count": 76,
   "id": "b2691722",
   "metadata": {},
   "outputs": [
    {
     "name": "stdout",
     "output_type": "stream",
     "text": [
      "<class 'pandas.core.frame.DataFrame'>\n",
      "RangeIndex: 2600 entries, 0 to 2599\n",
      "Data columns (total 7 columns):\n",
      " #   Column    Non-Null Count  Dtype \n",
      "---  ------    --------------  ----- \n",
      " 0   rank      2600 non-null   int64 \n",
      " 1   name      2600 non-null   object\n",
      " 2   networth  2600 non-null   object\n",
      " 3   age       2600 non-null   int64 \n",
      " 4   country   2600 non-null   object\n",
      " 5   source    2600 non-null   object\n",
      " 6   industry  2600 non-null   object\n",
      "dtypes: int64(2), object(5)\n",
      "memory usage: 142.3+ KB\n"
     ]
    }
   ],
   "source": [
    "df.info()"
   ]
  },
  {
   "cell_type": "code",
   "execution_count": 77,
   "id": "eed75227",
   "metadata": {},
   "outputs": [
    {
     "data": {
      "text/plain": [
       "0       False\n",
       "1       False\n",
       "2       False\n",
       "3       False\n",
       "4       False\n",
       "        ...  \n",
       "2595    False\n",
       "2596    False\n",
       "2597    False\n",
       "2598    False\n",
       "2599    False\n",
       "Length: 2600, dtype: bool"
      ]
     },
     "execution_count": 77,
     "metadata": {},
     "output_type": "execute_result"
    }
   ],
   "source": [
    "#Checking for duplicated values\n",
    "df.duplicated()"
   ]
  },
  {
   "cell_type": "code",
   "execution_count": 78,
   "id": "71b8d9f3",
   "metadata": {},
   "outputs": [
    {
     "data": {
      "text/plain": [
       "rank        0\n",
       "name        0\n",
       "networth    0\n",
       "age         0\n",
       "country     0\n",
       "source      0\n",
       "industry    0\n",
       "dtype: int64"
      ]
     },
     "execution_count": 78,
     "metadata": {},
     "output_type": "execute_result"
    }
   ],
   "source": [
    "#Checking for null values\n",
    "df.isnull().sum()"
   ]
  },
  {
   "cell_type": "code",
   "execution_count": 79,
   "id": "b0b6abb6",
   "metadata": {},
   "outputs": [
    {
     "name": "stderr",
     "output_type": "stream",
     "text": [
      "C:\\Users\\Imran\\AppData\\Local\\Temp\\ipykernel_64420\\1936692939.py:2: FutureWarning: The default value of regex will change from True to False in a future version. In addition, single character regular expressions will *not* be treated as literal strings when regex=True.\n",
      "  df['networth'] = df['networth'].str.replace('$','') #removing the dollar sign\n"
     ]
    }
   ],
   "source": [
    "#Data cleaning\n",
    "df['networth'] = df['networth'].str.replace('$','') #removing the dollar sign\n",
    "df['networth']=df['networth'].str.replace(' B','') #removing the b as in billion\n",
    "df['networth']=df['networth'].apply(pd.to_numeric) #changing the data type to numeric"
   ]
  },
  {
   "cell_type": "code",
   "execution_count": 80,
   "id": "2a8541a9",
   "metadata": {},
   "outputs": [
    {
     "data": {
      "text/plain": [
       "United States           719\n",
       "China                   515\n",
       "India                   161\n",
       "Germany                 130\n",
       "Russia                   81\n",
       "                       ... \n",
       "Venezuela                 1\n",
       "Portugal                  1\n",
       "Algeria                   1\n",
       "Eswatini (Swaziland)      1\n",
       "Estonia                   1\n",
       "Name: country, Length: 75, dtype: int64"
      ]
     },
     "execution_count": 80,
     "metadata": {},
     "output_type": "execute_result"
    }
   ],
   "source": [
    "#Determining top countries with most billionaires\n",
    "df['country'].value_counts()"
   ]
  },
  {
   "cell_type": "code",
   "execution_count": 102,
   "id": "c173c775",
   "metadata": {},
   "outputs": [
    {
     "data": {
      "text/plain": [
       "Finance & Investments          386\n",
       "Technology                     329\n",
       "Manufacturing                  322\n",
       "Fashion & Retail               246\n",
       "Healthcare                     212\n",
       "Food & Beverage                201\n",
       "Real Estate                    189\n",
       "Diversified                    178\n",
       "Media & Entertainment           95\n",
       "Energy                          93\n",
       "Automotive                      69\n",
       "Metals & Mining                 67\n",
       "Service                         51\n",
       "Construction & Engineering      43\n",
       "Logistics                       35\n",
       "Telecom                         35\n",
       "Sports                          26\n",
       "Gambling & Casinos              23\n",
       "Name: industry, dtype: int64"
      ]
     },
     "execution_count": 102,
     "metadata": {},
     "output_type": "execute_result"
    }
   ],
   "source": [
    "#Determining top industries with most billionaires\n",
    "df['industry'].value_counts()"
   ]
  },
  {
   "cell_type": "code",
   "execution_count": 90,
   "id": "999c4b7c",
   "metadata": {},
   "outputs": [
    {
     "data": {
      "text/plain": [
       "Text(0.5, 1.0, 'Correlation')"
      ]
     },
     "execution_count": 90,
     "metadata": {},
     "output_type": "execute_result"
    },
    {
     "data": {
      "image/png": "[encoded data removed]",
      "text/plain": [
       "<Figure size 432x288 with 2 Axes>"
      ]
     },
     "metadata": {
      "needs_background": "light"
     },
     "output_type": "display_data"
    }
   ],
   "source": [
    "#Checking the correlation between all the columns\n",
    "sns.heatmap(df.corr(),cmap='coolwarm')\n",
    "plt.title('Correlation')"
   ]
  },
  {
   "cell_type": "code",
   "execution_count": 82,
   "id": "60d0dd15",
   "metadata": {},
   "outputs": [
    {
     "name": "stderr",
     "output_type": "stream",
     "text": [
      "C:\\Users\\Imran\\anaconda3\\lib\\site-packages\\seaborn\\distributions.py:2619: FutureWarning: `distplot` is a deprecated function and will be removed in a future version. Please adapt your code to use either `displot` (a figure-level function with similar flexibility) or `histplot` (an axes-level function for histograms).\n",
      "  warnings.warn(msg, FutureWarning)\n"
     ]
    },
    {
     "data": {
      "text/plain": [
       "<AxesSubplot:xlabel='networth'>"
      ]
     },
     "execution_count": 82,
     "metadata": {},
     "output_type": "execute_result"
    },
    {
     "data": {
      "image/png": "[encoded data removed]",
      "text/plain": [
       "<Figure size 432x288 with 1 Axes>"
      ]
     },
     "metadata": {
      "needs_background": "light"
     },
     "output_type": "display_data"
    }
   ],
   "source": [
    "#Distribution Plot without kernel density estimation (KDE)\n",
    "sns.distplot(df['networth'], \n",
    "             bins = 30, \n",
    "             kde = False, \n",
    "             color = 'navy')"
   ]
  },
  {
   "cell_type": "code",
   "execution_count": 83,
   "id": "8cdc1212",
   "metadata": {},
   "outputs": [
    {
     "data": {
      "text/plain": [
       "<AxesSubplot:xlabel='networth', ylabel='Density'>"
      ]
     },
     "execution_count": 83,
     "metadata": {},
     "output_type": "execute_result"
    },
    {
     "data": {
      "image/png": "[encoded data removed]",
      "text/plain": [
       "<Figure size 432x288 with 1 Axes>"
      ]
     },
     "metadata": {
      "needs_background": "light"
     },
     "output_type": "display_data"
    }
   ],
   "source": [
    "sns.distplot(df['networth'], \n",
    "             bins = 30, \n",
    "             color = 'navy')"
   ]
  },
  {
   "cell_type": "code",
   "execution_count": 84,
   "id": "0e5a6f2c",
   "metadata": {},
   "outputs": [
    {
     "data": {
      "text/html": [
       "<div>\n",
       "<style scoped>\n",
       "    .dataframe tbody tr th:only-of-type {\n",
       "        vertical-align: middle;\n",
       "    }\n",
       "\n",
       "    .dataframe tbody tr th {\n",
       "        vertical-align: top;\n",
       "    }\n",
       "\n",
       "    .dataframe thead th {\n",
       "        text-align: right;\n",
       "    }\n",
       "</style>\n",
       "<table border=\"1\" class=\"dataframe\">\n",
       "  <thead>\n",
       "    <tr style=\"text-align: right;\">\n",
       "      <th></th>\n",
       "      <th>rank</th>\n",
       "      <th>name</th>\n",
       "      <th>networth</th>\n",
       "      <th>age</th>\n",
       "      <th>country</th>\n",
       "      <th>source</th>\n",
       "      <th>industry</th>\n",
       "    </tr>\n",
       "  </thead>\n",
       "  <tbody>\n",
       "    <tr>\n",
       "      <th>1311</th>\n",
       "      <td>1292</td>\n",
       "      <td>Kevin David Lehmann</td>\n",
       "      <td>2.4</td>\n",
       "      <td>19</td>\n",
       "      <td>Germany</td>\n",
       "      <td>drugstores</td>\n",
       "      <td>Fashion &amp; Retail</td>\n",
       "    </tr>\n",
       "    <tr>\n",
       "      <th>2062</th>\n",
       "      <td>1929</td>\n",
       "      <td>Wang Zelong</td>\n",
       "      <td>1.5</td>\n",
       "      <td>25</td>\n",
       "      <td>China</td>\n",
       "      <td>chemicals</td>\n",
       "      <td>Metals &amp; Mining</td>\n",
       "    </tr>\n",
       "    <tr>\n",
       "      <th>1975</th>\n",
       "      <td>1929</td>\n",
       "      <td>Pedro Franceschi</td>\n",
       "      <td>1.5</td>\n",
       "      <td>25</td>\n",
       "      <td>Brazil</td>\n",
       "      <td>fintech</td>\n",
       "      <td>Finance &amp; Investments</td>\n",
       "    </tr>\n",
       "    <tr>\n",
       "      <th>2190</th>\n",
       "      <td>2190</td>\n",
       "      <td>Alexandra Andresen</td>\n",
       "      <td>1.3</td>\n",
       "      <td>25</td>\n",
       "      <td>Norway</td>\n",
       "      <td>investments</td>\n",
       "      <td>Diversified</td>\n",
       "    </tr>\n",
       "    <tr>\n",
       "      <th>1961</th>\n",
       "      <td>1929</td>\n",
       "      <td>Henrique Dubugras</td>\n",
       "      <td>1.5</td>\n",
       "      <td>26</td>\n",
       "      <td>Brazil</td>\n",
       "      <td>fintech</td>\n",
       "      <td>Finance &amp; Investments</td>\n",
       "    </tr>\n",
       "    <tr>\n",
       "      <th>...</th>\n",
       "      <td>...</td>\n",
       "      <td>...</td>\n",
       "      <td>...</td>\n",
       "      <td>...</td>\n",
       "      <td>...</td>\n",
       "      <td>...</td>\n",
       "      <td>...</td>\n",
       "    </tr>\n",
       "    <tr>\n",
       "      <th>1939</th>\n",
       "      <td>1929</td>\n",
       "      <td>Ana Maria Brescia Cafferata</td>\n",
       "      <td>1.5</td>\n",
       "      <td>97</td>\n",
       "      <td>Peru</td>\n",
       "      <td>mining, banking</td>\n",
       "      <td>Diversified</td>\n",
       "    </tr>\n",
       "    <tr>\n",
       "      <th>1273</th>\n",
       "      <td>1238</td>\n",
       "      <td>Charles Munger</td>\n",
       "      <td>2.5</td>\n",
       "      <td>98</td>\n",
       "      <td>United States</td>\n",
       "      <td>Berkshire Hathaway</td>\n",
       "      <td>Finance &amp; Investments</td>\n",
       "    </tr>\n",
       "    <tr>\n",
       "      <th>1377</th>\n",
       "      <td>1341</td>\n",
       "      <td>David Murdock</td>\n",
       "      <td>2.3</td>\n",
       "      <td>98</td>\n",
       "      <td>United States</td>\n",
       "      <td>Dole, real estate</td>\n",
       "      <td>Food &amp; Beverage</td>\n",
       "    </tr>\n",
       "    <tr>\n",
       "      <th>162</th>\n",
       "      <td>163</td>\n",
       "      <td>Robert Kuok</td>\n",
       "      <td>11.7</td>\n",
       "      <td>98</td>\n",
       "      <td>Malaysia</td>\n",
       "      <td>palm oil, shipping, property</td>\n",
       "      <td>Diversified</td>\n",
       "    </tr>\n",
       "    <tr>\n",
       "      <th>1681</th>\n",
       "      <td>1645</td>\n",
       "      <td>George Joseph</td>\n",
       "      <td>1.8</td>\n",
       "      <td>100</td>\n",
       "      <td>United States</td>\n",
       "      <td>insurance</td>\n",
       "      <td>Finance &amp; Investments</td>\n",
       "    </tr>\n",
       "  </tbody>\n",
       "</table>\n",
       "<p>2600 rows × 7 columns</p>\n",
       "</div>"
      ],
      "text/plain": [
       "      rank                          name  networth  age        country  \\\n",
       "1311  1292          Kevin David Lehmann        2.4   19        Germany   \n",
       "2062  1929                  Wang Zelong        1.5   25          China   \n",
       "1975  1929             Pedro Franceschi        1.5   25         Brazil   \n",
       "2190  2190           Alexandra Andresen        1.3   25         Norway   \n",
       "1961  1929            Henrique Dubugras        1.5   26         Brazil   \n",
       "...    ...                           ...       ...  ...            ...   \n",
       "1939  1929  Ana Maria Brescia Cafferata        1.5   97           Peru   \n",
       "1273  1238               Charles Munger        2.5   98  United States   \n",
       "1377  1341                David Murdock        2.3   98  United States   \n",
       "162    163                  Robert Kuok       11.7   98       Malaysia   \n",
       "1681  1645                George Joseph        1.8  100  United States   \n",
       "\n",
       "                            source                industry  \n",
       "1311                    drugstores       Fashion & Retail   \n",
       "2062                     chemicals        Metals & Mining   \n",
       "1975                       fintech  Finance & Investments   \n",
       "2190                   investments            Diversified   \n",
       "1961                       fintech  Finance & Investments   \n",
       "...                            ...                     ...  \n",
       "1939               mining, banking            Diversified   \n",
       "1273            Berkshire Hathaway  Finance & Investments   \n",
       "1377             Dole, real estate        Food & Beverage   \n",
       "162   palm oil, shipping, property            Diversified   \n",
       "1681                     insurance  Finance & Investments   \n",
       "\n",
       "[2600 rows x 7 columns]"
      ]
     },
     "execution_count": 84,
     "metadata": {},
     "output_type": "execute_result"
    }
   ],
   "source": [
    "#Rough idea of the youngest billionaire\n",
    "df.sort_values(by=['age'])"
   ]
  },
  {
   "cell_type": "code",
   "execution_count": 66,
   "id": "e1da46ab",
   "metadata": {},
   "outputs": [
    {
     "data": {
      "text/plain": [
       "<AxesSubplot:xlabel='age'>"
      ]
     },
     "execution_count": 66,
     "metadata": {},
     "output_type": "execute_result"
    },
    {
     "data": {
      "image/png": "[encoded data removed]",
      "text/plain": [
       "<Figure size 432x288 with 1 Axes>"
      ]
     },
     "metadata": {
      "needs_background": "light"
     },
     "output_type": "display_data"
    }
   ],
   "source": [
    "#Dist plot (Distribution of billionaires at different ages)\n",
    "sns.distplot(df['age'], \n",
    "             bins = 50, \n",
    "             kde = False,\n",
    "             color = '#191970')"
   ]
  },
  {
   "cell_type": "code",
   "execution_count": 85,
   "id": "f2cc7237",
   "metadata": {},
   "outputs": [
    {
     "name": "stderr",
     "output_type": "stream",
     "text": [
      "C:\\Users\\Imran\\anaconda3\\lib\\site-packages\\seaborn\\distributions.py:2619: FutureWarning: `distplot` is a deprecated function and will be removed in a future version. Please adapt your code to use either `displot` (a figure-level function with similar flexibility) or `histplot` (an axes-level function for histograms).\n",
      "  warnings.warn(msg, FutureWarning)\n"
     ]
    },
    {
     "data": {
      "text/plain": [
       "<AxesSubplot:xlabel='age', ylabel='Density'>"
      ]
     },
     "execution_count": 85,
     "metadata": {},
     "output_type": "execute_result"
    },
    {
     "data": {
      "image/png": "[encoded data removed]",
      "text/plain": [
       "<Figure size 432x288 with 1 Axes>"
      ]
     },
     "metadata": {
      "needs_background": "light"
     },
     "output_type": "display_data"
    }
   ],
   "source": [
    "sns.distplot(df['age'], \n",
    "             bins = 50, \n",
    "             color = '#191970')"
   ]
  },
  {
   "cell_type": "code",
   "execution_count": 89,
   "id": "fe62553a",
   "metadata": {},
   "outputs": [
    {
     "data": {
      "text/plain": [
       "<seaborn.axisgrid.JointGrid at 0x1a06d58ceb0>"
      ]
     },
     "execution_count": 89,
     "metadata": {},
     "output_type": "execute_result"
    },
    {
     "data": {
      "image/png": "[encoded data removed]",
      "text/plain": [
       "<Figure size 432x432 with 3 Axes>"
      ]
     },
     "metadata": {
      "needs_background": "light"
     },
     "output_type": "display_data"
    }
   ],
   "source": [
    "#Joint plot (Age VS Net Worth)\n",
    "sns.jointplot(x = 'networth', \n",
    "              y = 'age', \n",
    "              data = df, \n",
    "              kind = 'scatter')"
   ]
  }
 ],
 "metadata": {
  "kernelspec": {
   "display_name": "Python 3 (ipykernel)",
   "language": "python",
   "name": "python3"
  },
  "language_info": {
   "codemirror_mode": {
    "name": "ipython",
    "version": 3
   },
   "file_extension": ".py",
   "mimetype": "text/x-python",
   "name": "python",
   "nbconvert_exporter": "python",
   "pygments_lexer": "ipython3",
   "version": "3.9.12"
  }
 },
 "nbformat": 4,
 "nbformat_minor": 5
}
